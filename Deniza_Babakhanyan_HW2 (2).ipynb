{
  "nbformat": 4,
  "nbformat_minor": 0,
  "metadata": {
    "colab": {
      "name": "Deniza_Babakhanyan_HW2.ipynb",
      "provenance": []
    },
    "kernelspec": {
      "name": "python3",
      "display_name": "Python 3"
    }
  },
  "cells": [
    {
      "cell_type": "markdown",
      "metadata": {
        "id": "YFXkK_jlVswU",
        "colab_type": "text"
      },
      "source": [
        "Problem 1 "
      ]
    },
    {
      "cell_type": "code",
      "metadata": {
        "id": "9pD9mNw-RwQm",
        "colab_type": "code",
        "colab": {}
      },
      "source": [
        "import numpy as np\n",
        "import pandas as pd\n",
        "import time \n",
        "import requests\n",
        "from scrapy.http import TextResponse \n",
        "import scrapy"
      ],
      "execution_count": null,
      "outputs": []
    },
    {
      "cell_type": "code",
      "metadata": {
        "id": "L0CFnO3OTCH0",
        "colab_type": "code",
        "colab": {}
      },
      "source": [
        "!pip install scrapy "
      ],
      "execution_count": null,
      "outputs": []
    },
    {
      "cell_type": "code",
      "metadata": {
        "id": "CybDCPLuan26",
        "colab_type": "code",
        "colab": {}
      },
      "source": [
        "url = \"http://quotes.toscrape.com\""
      ],
      "execution_count": null,
      "outputs": []
    },
    {
      "cell_type": "code",
      "metadata": {
        "id": "aiTi60sRS-We",
        "colab_type": "code",
        "colab": {}
      },
      "source": [
        "page = requests.get(url)"
      ],
      "execution_count": null,
      "outputs": []
    },
    {
      "cell_type": "code",
      "metadata": {
        "id": "SwkVI5ixTR6k",
        "colab_type": "code",
        "colab": {}
      },
      "source": [
        "page.status_code"
      ],
      "execution_count": null,
      "outputs": []
    },
    {
      "cell_type": "code",
      "metadata": {
        "id": "wOmw4RFATFW_",
        "colab_type": "code",
        "colab": {}
      },
      "source": [
        "response = TextResponse(body=page.text,url=url,encoding=\"utf-8\")"
      ],
      "execution_count": null,
      "outputs": []
    },
    {
      "cell_type": "code",
      "metadata": {
        "id": "NI6Abw5xTQO_",
        "colab_type": "code",
        "colab": {}
      },
      "source": [
        "def quote_scraper(url):\n",
        "  quotes = response.css(\"span.text::text\").extract()\n",
        "  authors = response.css(\"small.author::text\").extract()\n",
        "  tags = [i.css(\"a.tag::text\").extract() for i in response.css(\"div.tags\")]\n",
        "  rel_hyperlinks = response.css(\"span>a:not([class=tag])::attr(href)\").extract()\n",
        "  hyperlink = [base_url+i for i in rel_hyperlinks]\n",
        "  return quotes, authors, tags, hyperlink"
      ],
      "execution_count": null,
      "outputs": []
    },
    {
      "cell_type": "code",
      "metadata": {
        "id": "GlPvtPpSLbLO",
        "colab_type": "code",
        "colab": {}
      },
      "source": [
        "quote_scraper(url=\"http://quotes.toscrape.com\")"
      ],
      "execution_count": null,
      "outputs": []
    },
    {
      "cell_type": "code",
      "metadata": {
        "id": "4TeKsfVfj-BQ",
        "colab_type": "code",
        "colab": {}
      },
      "source": [
        "base_url = \"http://quotes.toscrape.com\""
      ],
      "execution_count": null,
      "outputs": []
    },
    {
      "cell_type": "code",
      "metadata": {
        "id": "IMlDLsKExtp2",
        "colab_type": "code",
        "colab": {}
      },
      "source": [
        "all_quotes = []\n",
        "while next_button_url is not None:\n",
        "  response = TextResponse(body=page.text,url=next_page_url,encoding=\"utf-8\")\n",
        "  next_page = quote_scraper(next_page_url)\n",
        "  all_quotes.extend(next_page)\n",
        "  next_button_url = response.css(\"nav > ul.pager > li[class = 'next'] a::attr(href)\").extract_first()\n",
        "  next_page_url = base_url + \"\".join(next_button_url)\n",
        "print(all_quotes)\n",
        "  \n",
        "  \n",
        "  \n",
        "  \n",
        "    \n"
      ],
      "execution_count": null,
      "outputs": []
    }
  ]
}